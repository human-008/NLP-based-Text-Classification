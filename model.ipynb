{
 "cells": [
  {
   "cell_type": "code",
   "execution_count": 1,
   "metadata": {
    "_cell_guid": "b1076dfc-b9ad-4769-8c92-a6c4dae69d19",
    "_uuid": "8f2839f25d086af736a60e9eeb907d3b93b6e0e5",
    "execution": {
     "iopub.execute_input": "2020-11-27T16:25:53.779367Z",
     "iopub.status.busy": "2020-11-27T16:25:53.778693Z",
     "iopub.status.idle": "2020-11-27T16:25:53.789352Z",
     "shell.execute_reply": "2020-11-27T16:25:53.788553Z"
    },
    "papermill": {
     "duration": 0.042411,
     "end_time": "2020-11-27T16:25:53.789520",
     "exception": false,
     "start_time": "2020-11-27T16:25:53.747109",
     "status": "completed"
    },
    "tags": []
   },
   "outputs": [
    {
     "name": "stdout",
     "output_type": "stream",
     "text": [
      "/kaggle/input/nnfl-lab3/word2vec_tweets.txt\n",
      "/kaggle/input/nnfl-lab3/__results__.html\n",
      "/kaggle/input/nnfl-lab3/__output__.json\n",
      "/kaggle/input/nnfl-lab3/custom.css\n",
      "/kaggle/input/nnfl-lab3/__notebook__.ipynb\n",
      "/kaggle/input/nnfl-lab3/2018A7PS0225G.h5\n",
      "/kaggle/input/nnfl-lab3/__results___files/__results___28_0.png\n",
      "/kaggle/input/nnfl-lab3/__results___files/__results___29_0.png\n",
      "/kaggle/input/nnfl-lab-3/lab3_train.csv\n",
      "/kaggle/input/nnfl-lab-3/lab3_test.csv\n",
      "/kaggle/input/nnfl-lab-3/sample_submission.csv\n"
     ]
    }
   ],
   "source": [
    "# This Python 3 environment comes with many helpful analytics libraries installed\n",
    "# It is defined by the kaggle/python Docker image: https://github.com/kaggle/docker-python\n",
    "# For example, here's several helpful packages to load\n",
    "\n",
    "import numpy as np # linear algebra\n",
    "import pandas as pd # data processing, CSV file I/O (e.g. pd.read_csv)\n",
    "\n",
    "# Input data files are available in the read-only \"../input/\" directory\n",
    "# For example, running this (by clicking run or pressing Shift+Enter) will list all files under the input directory\n",
    "\n",
    "import os\n",
    "for dirname, _, filenames in os.walk('/kaggle/input'):\n",
    "    for filename in filenames:\n",
    "        print(os.path.join(dirname, filename))\n",
    "\n",
    "# You can write up to 20GB to the current directory (/kaggle/working/) that gets preserved as output when you create a version using \"Save & Run All\" \n",
    "# You can also write temporary files to /kaggle/temp/, but they won't be saved outside of the current session"
   ]
  },
  {
   "cell_type": "code",
   "execution_count": 2,
   "metadata": {
    "_cell_guid": "79c7e3d0-c299-4dcb-8224-4455121ee9b0",
    "_uuid": "d629ff2d2480ee46fbb7e2d37f6b5fab8052498a",
    "execution": {
     "iopub.execute_input": "2020-11-27T16:25:53.844973Z",
     "iopub.status.busy": "2020-11-27T16:25:53.844281Z",
     "iopub.status.idle": "2020-11-27T16:25:59.584356Z",
     "shell.execute_reply": "2020-11-27T16:25:59.582939Z"
    },
    "papermill": {
     "duration": 5.769095,
     "end_time": "2020-11-27T16:25:59.584486",
     "exception": false,
     "start_time": "2020-11-27T16:25:53.815391",
     "status": "completed"
    },
    "tags": []
   },
   "outputs": [],
   "source": [
    "import numpy as np\n",
    "import pandas as pd \n",
    "from keras.utils import to_categorical\n",
    "from sklearn.model_selection import train_test_split\n",
    "import matplotlib.pyplot as plt\n",
    "import random\n",
    "import os\n",
    "import string\n",
    "from keras.preprocessing.text import Tokenizer"
   ]
  },
  {
   "cell_type": "code",
   "execution_count": 3,
   "metadata": {
    "execution": {
     "iopub.execute_input": "2020-11-27T16:25:59.656097Z",
     "iopub.status.busy": "2020-11-27T16:25:59.655240Z",
     "iopub.status.idle": "2020-11-27T16:26:00.235058Z",
     "shell.execute_reply": "2020-11-27T16:26:00.234200Z"
    },
    "papermill": {
     "duration": 0.618085,
     "end_time": "2020-11-27T16:26:00.235214",
     "exception": false,
     "start_time": "2020-11-27T16:25:59.617129",
     "status": "completed"
    },
    "tags": []
   },
   "outputs": [],
   "source": [
    "df=pd.read_csv(\"../input/nnfl-lab-3/lab3_train.csv\")"
   ]
  },
  {
   "cell_type": "code",
   "execution_count": 4,
   "metadata": {
    "execution": {
     "iopub.execute_input": "2020-11-27T16:26:00.304965Z",
     "iopub.status.busy": "2020-11-27T16:26:00.304244Z",
     "iopub.status.idle": "2020-11-27T16:26:00.313512Z",
     "shell.execute_reply": "2020-11-27T16:26:00.314005Z"
    },
    "papermill": {
     "duration": 0.054088,
     "end_time": "2020-11-27T16:26:00.314141",
     "exception": false,
     "start_time": "2020-11-27T16:26:00.260053",
     "status": "completed"
    },
    "tags": []
   },
   "outputs": [
    {
     "data": {
      "text/html": [
       "<div>\n",
       "<style scoped>\n",
       "    .dataframe tbody tr th:only-of-type {\n",
       "        vertical-align: middle;\n",
       "    }\n",
       "\n",
       "    .dataframe tbody tr th {\n",
       "        vertical-align: top;\n",
       "    }\n",
       "\n",
       "    .dataframe thead th {\n",
       "        text-align: right;\n",
       "    }\n",
       "</style>\n",
       "<table border=\"1\" class=\"dataframe\">\n",
       "  <thead>\n",
       "    <tr style=\"text-align: right;\">\n",
       "      <th></th>\n",
       "      <th>index</th>\n",
       "      <th>text</th>\n",
       "      <th>class</th>\n",
       "    </tr>\n",
       "  </thead>\n",
       "  <tbody>\n",
       "    <tr>\n",
       "      <th>0</th>\n",
       "      <td>0</td>\n",
       "      <td>(['Due to the large numbers of transcription f...</td>\n",
       "      <td>1</td>\n",
       "    </tr>\n",
       "    <tr>\n",
       "      <th>1</th>\n",
       "      <td>1</td>\n",
       "      <td>(['The human daily activity category represent...</td>\n",
       "      <td>1</td>\n",
       "    </tr>\n",
       "    <tr>\n",
       "      <th>2</th>\n",
       "      <td>2</td>\n",
       "      <td>(['A severe pneumonia-associated respiratory s...</td>\n",
       "      <td>2</td>\n",
       "    </tr>\n",
       "    <tr>\n",
       "      <th>3</th>\n",
       "      <td>3</td>\n",
       "      <td>(['We recently proposed that human memory syst...</td>\n",
       "      <td>1</td>\n",
       "    </tr>\n",
       "    <tr>\n",
       "      <th>4</th>\n",
       "      <td>4</td>\n",
       "      <td>(['We present a deep reinforcement learning fr...</td>\n",
       "      <td>1</td>\n",
       "    </tr>\n",
       "    <tr>\n",
       "      <th>...</th>\n",
       "      <td>...</td>\n",
       "      <td>...</td>\n",
       "      <td>...</td>\n",
       "    </tr>\n",
       "    <tr>\n",
       "      <th>29995</th>\n",
       "      <td>29995</td>\n",
       "      <td>([], 'Coronavirus (COVID-19) infection-induced...</td>\n",
       "      <td>2</td>\n",
       "    </tr>\n",
       "    <tr>\n",
       "      <th>29996</th>\n",
       "      <td>29996</td>\n",
       "      <td>([\"Brain-computer interfaces (BCI) have been s...</td>\n",
       "      <td>5</td>\n",
       "    </tr>\n",
       "    <tr>\n",
       "      <th>29997</th>\n",
       "      <td>29997</td>\n",
       "      <td>([\"The purpose of this study was to develop a ...</td>\n",
       "      <td>4</td>\n",
       "    </tr>\n",
       "    <tr>\n",
       "      <th>29998</th>\n",
       "      <td>29998</td>\n",
       "      <td>(['Interprofessional team training is needed t...</td>\n",
       "      <td>4</td>\n",
       "    </tr>\n",
       "    <tr>\n",
       "      <th>29999</th>\n",
       "      <td>29999</td>\n",
       "      <td>([\"Introduction: Although the benefit in motor...</td>\n",
       "      <td>1</td>\n",
       "    </tr>\n",
       "  </tbody>\n",
       "</table>\n",
       "<p>30000 rows × 3 columns</p>\n",
       "</div>"
      ],
      "text/plain": [
       "       index                                               text  class\n",
       "0          0  (['Due to the large numbers of transcription f...      1\n",
       "1          1  (['The human daily activity category represent...      1\n",
       "2          2  (['A severe pneumonia-associated respiratory s...      2\n",
       "3          3  (['We recently proposed that human memory syst...      1\n",
       "4          4  (['We present a deep reinforcement learning fr...      1\n",
       "...      ...                                                ...    ...\n",
       "29995  29995  ([], 'Coronavirus (COVID-19) infection-induced...      2\n",
       "29996  29996  ([\"Brain-computer interfaces (BCI) have been s...      5\n",
       "29997  29997  ([\"The purpose of this study was to develop a ...      4\n",
       "29998  29998  (['Interprofessional team training is needed t...      4\n",
       "29999  29999  ([\"Introduction: Although the benefit in motor...      1\n",
       "\n",
       "[30000 rows x 3 columns]"
      ]
     },
     "execution_count": 4,
     "metadata": {},
     "output_type": "execute_result"
    }
   ],
   "source": [
    "df"
   ]
  },
  {
   "cell_type": "code",
   "execution_count": 5,
   "metadata": {
    "execution": {
     "iopub.execute_input": "2020-11-27T16:26:00.374305Z",
     "iopub.status.busy": "2020-11-27T16:26:00.373584Z",
     "iopub.status.idle": "2020-11-27T16:27:24.361558Z",
     "shell.execute_reply": "2020-11-27T16:27:24.360443Z"
    },
    "papermill": {
     "duration": 84.022667,
     "end_time": "2020-11-27T16:27:24.361696",
     "exception": false,
     "start_time": "2020-11-27T16:26:00.339029",
     "status": "completed"
    },
    "tags": []
   },
   "outputs": [],
   "source": [
    "import string\n",
    "from nltk.tokenize import word_tokenize\n",
    "from nltk.corpus import stopwords\n",
    "\n",
    "tweets = list()\n",
    "lines=df['text'].values.tolist()\n",
    "\n",
    "for line in lines:\n",
    "    tokens=word_tokenize(line)\n",
    "    tokens=[w.lower() for w in tokens]\n",
    "    table=str.maketrans('','',string.punctuation)\n",
    "    stripped = [w.translate(table) for w in tokens]\n",
    "  \n",
    "    \n",
    "    words = [word for word in stripped if word.isalpha()]\n",
    "    \n",
    "    stop_words=set(stopwords.words('english'))\n",
    "    words = [w for w in words if not w in stop_words]\n",
    "    tweets.append(words)\n",
    "    "
   ]
  },
  {
   "cell_type": "code",
   "execution_count": 6,
   "metadata": {
    "execution": {
     "iopub.execute_input": "2020-11-27T16:27:24.423809Z",
     "iopub.status.busy": "2020-11-27T16:27:24.422921Z",
     "iopub.status.idle": "2020-11-27T16:27:24.426046Z",
     "shell.execute_reply": "2020-11-27T16:27:24.425501Z"
    },
    "papermill": {
     "duration": 0.038723,
     "end_time": "2020-11-27T16:27:24.426150",
     "exception": false,
     "start_time": "2020-11-27T16:27:24.387427",
     "status": "completed"
    },
    "tags": []
   },
   "outputs": [],
   "source": [
    "EMBEDDING_DIM = 200"
   ]
  },
  {
   "cell_type": "code",
   "execution_count": 7,
   "metadata": {
    "execution": {
     "iopub.execute_input": "2020-11-27T16:27:24.482470Z",
     "iopub.status.busy": "2020-11-27T16:27:24.481832Z",
     "iopub.status.idle": "2020-11-27T16:28:30.261196Z",
     "shell.execute_reply": "2020-11-27T16:28:30.262002Z"
    },
    "papermill": {
     "duration": 65.810307,
     "end_time": "2020-11-27T16:28:30.262204",
     "exception": false,
     "start_time": "2020-11-27T16:27:24.451897",
     "status": "completed"
    },
    "tags": []
   },
   "outputs": [
    {
     "name": "stdout",
     "output_type": "stream",
     "text": [
      "78881\n"
     ]
    }
   ],
   "source": [
    "import gensim\n",
    "\n",
    "model=gensim.models.Word2Vec(sentences=tweets,size=EMBEDDING_DIM,window=5,workers=4,min_count=1)\n",
    "\n",
    "words=list(model.wv.vocab)\n",
    "print(len(words))"
   ]
  },
  {
   "cell_type": "code",
   "execution_count": 8,
   "metadata": {
    "execution": {
     "iopub.execute_input": "2020-11-27T16:28:30.581494Z",
     "iopub.status.busy": "2020-11-27T16:28:30.580573Z",
     "iopub.status.idle": "2020-11-27T16:28:45.015962Z",
     "shell.execute_reply": "2020-11-27T16:28:45.014839Z"
    },
    "papermill": {
     "duration": 14.727771,
     "end_time": "2020-11-27T16:28:45.016082",
     "exception": false,
     "start_time": "2020-11-27T16:28:30.288311",
     "status": "completed"
    },
    "tags": []
   },
   "outputs": [],
   "source": [
    "filename = 'word2vec_tweets.txt'\n",
    "model.wv.save_word2vec_format(filename,binary=False)"
   ]
  },
  {
   "cell_type": "code",
   "execution_count": 9,
   "metadata": {
    "execution": {
     "iopub.execute_input": "2020-11-27T16:28:45.075100Z",
     "iopub.status.busy": "2020-11-27T16:28:45.074262Z",
     "iopub.status.idle": "2020-11-27T16:28:45.079306Z",
     "shell.execute_reply": "2020-11-27T16:28:45.078767Z"
    },
    "papermill": {
     "duration": 0.036256,
     "end_time": "2020-11-27T16:28:45.079442",
     "exception": false,
     "start_time": "2020-11-27T16:28:45.043186",
     "status": "completed"
    },
    "tags": []
   },
   "outputs": [],
   "source": [
    "embeddings_index={}\n",
    "f=open(os.path.join('','word2vec_tweets.txt'),encoding=\"utf-8\")"
   ]
  },
  {
   "cell_type": "code",
   "execution_count": 10,
   "metadata": {
    "execution": {
     "iopub.execute_input": "2020-11-27T16:28:45.141767Z",
     "iopub.status.busy": "2020-11-27T16:28:45.140747Z",
     "iopub.status.idle": "2020-11-27T16:28:51.348622Z",
     "shell.execute_reply": "2020-11-27T16:28:51.347586Z"
    },
    "papermill": {
     "duration": 6.24199,
     "end_time": "2020-11-27T16:28:51.348754",
     "exception": false,
     "start_time": "2020-11-27T16:28:45.106764",
     "status": "completed"
    },
    "tags": []
   },
   "outputs": [],
   "source": [
    "for line in f:\n",
    "    values=line.split()\n",
    "    word = values[0]\n",
    "    coefs = np.asarray(values[1:])\n",
    "    embeddings_index[word] = coefs\n",
    "f.close()"
   ]
  },
  {
   "cell_type": "code",
   "execution_count": 11,
   "metadata": {
    "execution": {
     "iopub.execute_input": "2020-11-27T16:28:51.442563Z",
     "iopub.status.busy": "2020-11-27T16:28:51.437450Z",
     "iopub.status.idle": "2020-11-27T16:28:55.480560Z",
     "shell.execute_reply": "2020-11-27T16:28:55.481158Z"
    },
    "papermill": {
     "duration": 4.105259,
     "end_time": "2020-11-27T16:28:55.481353",
     "exception": false,
     "start_time": "2020-11-27T16:28:51.376094",
     "status": "completed"
    },
    "tags": []
   },
   "outputs": [],
   "source": [
    "tokenizer_obj=Tokenizer()\n",
    "tokenizer_obj.fit_on_texts(tweets)\n",
    "sequences = tokenizer_obj.texts_to_sequences(tweets)"
   ]
  },
  {
   "cell_type": "code",
   "execution_count": 12,
   "metadata": {
    "execution": {
     "iopub.execute_input": "2020-11-27T16:28:55.557278Z",
     "iopub.status.busy": "2020-11-27T16:28:55.556345Z",
     "iopub.status.idle": "2020-11-27T16:28:55.562068Z",
     "shell.execute_reply": "2020-11-27T16:28:55.558004Z"
    },
    "papermill": {
     "duration": 0.046392,
     "end_time": "2020-11-27T16:28:55.562170",
     "exception": false,
     "start_time": "2020-11-27T16:28:55.515778",
     "status": "completed"
    },
    "tags": []
   },
   "outputs": [
    {
     "name": "stdout",
     "output_type": "stream",
     "text": [
      "78881\n"
     ]
    }
   ],
   "source": [
    "word_index=tokenizer_obj.word_index\n",
    "print(len(word_index))"
   ]
  },
  {
   "cell_type": "code",
   "execution_count": 13,
   "metadata": {
    "execution": {
     "iopub.execute_input": "2020-11-27T16:28:55.918801Z",
     "iopub.status.busy": "2020-11-27T16:28:55.678050Z",
     "iopub.status.idle": "2020-11-27T16:28:56.064643Z",
     "shell.execute_reply": "2020-11-27T16:28:56.064101Z"
    },
    "papermill": {
     "duration": 0.464543,
     "end_time": "2020-11-27T16:28:56.064763",
     "exception": false,
     "start_time": "2020-11-27T16:28:55.600220",
     "status": "completed"
    },
    "tags": []
   },
   "outputs": [],
   "source": [
    "max_len=0\n",
    "for line in df['text'].values:\n",
    "    line_len=len(line.split())\n",
    "    max_len=max(max_len,line_len) "
   ]
  },
  {
   "cell_type": "code",
   "execution_count": 14,
   "metadata": {
    "execution": {
     "iopub.execute_input": "2020-11-27T16:28:56.124075Z",
     "iopub.status.busy": "2020-11-27T16:28:56.123092Z",
     "iopub.status.idle": "2020-11-27T16:28:56.127482Z",
     "shell.execute_reply": "2020-11-27T16:28:56.127955Z"
    },
    "papermill": {
     "duration": 0.036283,
     "end_time": "2020-11-27T16:28:56.128097",
     "exception": false,
     "start_time": "2020-11-27T16:28:56.091814",
     "status": "completed"
    },
    "tags": []
   },
   "outputs": [
    {
     "name": "stdout",
     "output_type": "stream",
     "text": [
      "1103\n"
     ]
    }
   ],
   "source": [
    "print(max_len)"
   ]
  },
  {
   "cell_type": "code",
   "execution_count": 15,
   "metadata": {
    "execution": {
     "iopub.execute_input": "2020-11-27T16:28:56.187039Z",
     "iopub.status.busy": "2020-11-27T16:28:56.186435Z",
     "iopub.status.idle": "2020-11-27T16:28:56.191269Z",
     "shell.execute_reply": "2020-11-27T16:28:56.191805Z"
    },
    "papermill": {
     "duration": 0.036232,
     "end_time": "2020-11-27T16:28:56.191939",
     "exception": false,
     "start_time": "2020-11-27T16:28:56.155707",
     "status": "completed"
    },
    "tags": []
   },
   "outputs": [],
   "source": [
    "#look out for values\n",
    "max_length=1200"
   ]
  },
  {
   "cell_type": "code",
   "execution_count": 16,
   "metadata": {
    "execution": {
     "iopub.execute_input": "2020-11-27T16:28:56.253403Z",
     "iopub.status.busy": "2020-11-27T16:28:56.252786Z",
     "iopub.status.idle": "2020-11-27T16:28:56.988969Z",
     "shell.execute_reply": "2020-11-27T16:28:56.989464Z"
    },
    "papermill": {
     "duration": 0.769104,
     "end_time": "2020-11-27T16:28:56.989607",
     "exception": false,
     "start_time": "2020-11-27T16:28:56.220503",
     "status": "completed"
    },
    "tags": []
   },
   "outputs": [
    {
     "name": "stdout",
     "output_type": "stream",
     "text": [
      "(30000, 1200)\n",
      "(30000, 5)\n"
     ]
    }
   ],
   "source": [
    "from keras.preprocessing.sequence import pad_sequences \n",
    "\n",
    "review_pad = pad_sequences(sequences,maxlen=max_length)\n",
    "sentiment = pd.get_dummies(df['class'].values)\n",
    "print(review_pad.shape)\n",
    "print(sentiment.shape)"
   ]
  },
  {
   "cell_type": "code",
   "execution_count": 17,
   "metadata": {
    "execution": {
     "iopub.execute_input": "2020-11-27T16:28:57.050309Z",
     "iopub.status.busy": "2020-11-27T16:28:57.049729Z",
     "iopub.status.idle": "2020-11-27T16:28:57.054036Z",
     "shell.execute_reply": "2020-11-27T16:28:57.053032Z"
    },
    "papermill": {
     "duration": 0.036469,
     "end_time": "2020-11-27T16:28:57.054134",
     "exception": false,
     "start_time": "2020-11-27T16:28:57.017665",
     "status": "completed"
    },
    "tags": []
   },
   "outputs": [],
   "source": [
    "num_words = len(word_index) + 1\n",
    "embedding_matrix = np.zeros((num_words, EMBEDDING_DIM))"
   ]
  },
  {
   "cell_type": "code",
   "execution_count": 18,
   "metadata": {
    "execution": {
     "iopub.execute_input": "2020-11-27T16:28:57.150200Z",
     "iopub.status.busy": "2020-11-27T16:28:57.144982Z",
     "iopub.status.idle": "2020-11-27T16:29:09.056457Z",
     "shell.execute_reply": "2020-11-27T16:29:09.055867Z"
    },
    "papermill": {
     "duration": 11.973974,
     "end_time": "2020-11-27T16:29:09.056567",
     "exception": false,
     "start_time": "2020-11-27T16:28:57.082593",
     "status": "completed"
    },
    "tags": []
   },
   "outputs": [],
   "source": [
    "for word, i in word_index.items():\n",
    "    if i > num_words:\n",
    "        continue\n",
    "    embedding_vector = embeddings_index.get(word)\n",
    "    if embedding_vector is not None:\n",
    "        embedding_matrix[i] = embedding_vector"
   ]
  },
  {
   "cell_type": "code",
   "execution_count": 19,
   "metadata": {
    "execution": {
     "iopub.execute_input": "2020-11-27T16:29:09.117431Z",
     "iopub.status.busy": "2020-11-27T16:29:09.116753Z",
     "iopub.status.idle": "2020-11-27T16:29:09.122419Z",
     "shell.execute_reply": "2020-11-27T16:29:09.121870Z"
    },
    "papermill": {
     "duration": 0.037617,
     "end_time": "2020-11-27T16:29:09.122529",
     "exception": false,
     "start_time": "2020-11-27T16:29:09.084912",
     "status": "completed"
    },
    "tags": []
   },
   "outputs": [
    {
     "name": "stdout",
     "output_type": "stream",
     "text": [
      "78882\n"
     ]
    }
   ],
   "source": [
    "print(num_words)"
   ]
  },
  {
   "cell_type": "code",
   "execution_count": 20,
   "metadata": {
    "execution": {
     "iopub.execute_input": "2020-11-27T16:29:09.186759Z",
     "iopub.status.busy": "2020-11-27T16:29:09.184891Z",
     "iopub.status.idle": "2020-11-27T16:29:09.187450Z",
     "shell.execute_reply": "2020-11-27T16:29:09.187923Z"
    },
    "papermill": {
     "duration": 0.037152,
     "end_time": "2020-11-27T16:29:09.188038",
     "exception": false,
     "start_time": "2020-11-27T16:29:09.150886",
     "status": "completed"
    },
    "tags": []
   },
   "outputs": [],
   "source": [
    "from keras.models import Sequential\n",
    "from keras.layers import LSTM, Dense, Dropout, Masking, Embedding,SpatialDropout1D,GRU\n",
    "from keras.callbacks import EarlyStopping, ReduceLROnPlateau\n",
    "from keras.initializers import Constant"
   ]
  },
  {
   "cell_type": "code",
   "execution_count": 21,
   "metadata": {
    "execution": {
     "iopub.execute_input": "2020-11-27T16:29:09.253913Z",
     "iopub.status.busy": "2020-11-27T16:29:09.253253Z",
     "iopub.status.idle": "2020-11-27T16:29:12.540720Z",
     "shell.execute_reply": "2020-11-27T16:29:12.540014Z"
    },
    "papermill": {
     "duration": 3.32443,
     "end_time": "2020-11-27T16:29:12.540836",
     "exception": false,
     "start_time": "2020-11-27T16:29:09.216406",
     "status": "completed"
    },
    "tags": []
   },
   "outputs": [],
   "source": [
    "model = Sequential()\n",
    "model.add(Embedding(num_words, EMBEDDING_DIM,embeddings_initializer=Constant(embedding_matrix),input_length=max_length,trainable=False))\n",
    "model.add(SpatialDropout1D(0.2))\n",
    "model.add(LSTM(64, dropout=0.2, recurrent_dropout=0.2,return_sequences=True))\n",
    "model.add(SpatialDropout1D(0.4))\n",
    "model.add(LSTM(128, dropout=0.2, recurrent_dropout=0.2,return_sequences=False))\n",
    "model.add(Dense(5, activation='softmax'))\n",
    "model.compile(loss='categorical_crossentropy', optimizer='adam', metrics=['accuracy'])\n",
    "\n",
    "#epochs = 5\n",
    "#batch_size = 3000\n",
    "\n",
    "#history = model.fit(X_train, y_train, epochs=epochs, batch_size=batch_size,validation_split=0.2,callbacks=[EarlyStopping(monitor='val_loss', patience=3, min_delta=0.0001)])"
   ]
  },
  {
   "cell_type": "code",
   "execution_count": 22,
   "metadata": {
    "execution": {
     "iopub.execute_input": "2020-11-27T16:29:12.605239Z",
     "iopub.status.busy": "2020-11-27T16:29:12.603552Z",
     "iopub.status.idle": "2020-11-27T16:29:12.617822Z",
     "shell.execute_reply": "2020-11-27T16:29:12.618408Z"
    },
    "papermill": {
     "duration": 0.048047,
     "end_time": "2020-11-27T16:29:12.618556",
     "exception": false,
     "start_time": "2020-11-27T16:29:12.570509",
     "status": "completed"
    },
    "tags": []
   },
   "outputs": [
    {
     "name": "stdout",
     "output_type": "stream",
     "text": [
      "Model: \"sequential\"\n",
      "_________________________________________________________________\n",
      "Layer (type)                 Output Shape              Param #   \n",
      "=================================================================\n",
      "embedding (Embedding)        (None, 1200, 200)         15776400  \n",
      "_________________________________________________________________\n",
      "spatial_dropout1d (SpatialDr (None, 1200, 200)         0         \n",
      "_________________________________________________________________\n",
      "lstm (LSTM)                  (None, 1200, 64)          67840     \n",
      "_________________________________________________________________\n",
      "spatial_dropout1d_1 (Spatial (None, 1200, 64)          0         \n",
      "_________________________________________________________________\n",
      "lstm_1 (LSTM)                (None, 128)               98816     \n",
      "_________________________________________________________________\n",
      "dense (Dense)                (None, 5)                 645       \n",
      "=================================================================\n",
      "Total params: 15,943,701\n",
      "Trainable params: 167,301\n",
      "Non-trainable params: 15,776,400\n",
      "_________________________________________________________________\n"
     ]
    }
   ],
   "source": [
    "model.summary()"
   ]
  },
  {
   "cell_type": "code",
   "execution_count": 23,
   "metadata": {
    "execution": {
     "iopub.execute_input": "2020-11-27T16:29:12.683719Z",
     "iopub.status.busy": "2020-11-27T16:29:12.683006Z",
     "iopub.status.idle": "2020-11-27T16:29:12.735861Z",
     "shell.execute_reply": "2020-11-27T16:29:12.735265Z"
    },
    "papermill": {
     "duration": 0.087695,
     "end_time": "2020-11-27T16:29:12.735967",
     "exception": false,
     "start_time": "2020-11-27T16:29:12.648272",
     "status": "completed"
    },
    "tags": []
   },
   "outputs": [],
   "source": [
    "sentiment=sentiment.to_numpy()\n",
    "\n",
    "VALIDATION_SPLIT=0.2\n",
    "\n",
    "indices = np.arange(review_pad.shape[0])\n",
    "np.random.shuffle(indices)\n",
    "review_pad = review_pad[indices]\n",
    "sentiment = sentiment[indices]\n",
    "\n",
    "num_validation_samples=int(VALIDATION_SPLIT*review_pad.shape[0])"
   ]
  },
  {
   "cell_type": "code",
   "execution_count": 24,
   "metadata": {
    "execution": {
     "iopub.execute_input": "2020-11-27T16:29:12.801015Z",
     "iopub.status.busy": "2020-11-27T16:29:12.799832Z",
     "iopub.status.idle": "2020-11-27T16:29:12.865525Z",
     "shell.execute_reply": "2020-11-27T16:29:12.866122Z"
    },
    "papermill": {
     "duration": 0.100588,
     "end_time": "2020-11-27T16:29:12.866262",
     "exception": false,
     "start_time": "2020-11-27T16:29:12.765674",
     "status": "completed"
    },
    "tags": []
   },
   "outputs": [],
   "source": [
    "from sklearn.model_selection import train_test_split\n",
    "X_train, X_test, y_train, y_test = train_test_split( review_pad, sentiment, test_size=0.2, random_state=42)"
   ]
  },
  {
   "cell_type": "code",
   "execution_count": 25,
   "metadata": {
    "execution": {
     "iopub.execute_input": "2020-11-27T16:29:12.939912Z",
     "iopub.status.busy": "2020-11-27T16:29:12.939118Z",
     "iopub.status.idle": "2020-11-27T16:29:12.943287Z",
     "shell.execute_reply": "2020-11-27T16:29:12.942746Z"
    },
    "papermill": {
     "duration": 0.041168,
     "end_time": "2020-11-27T16:29:12.943406",
     "exception": false,
     "start_time": "2020-11-27T16:29:12.902238",
     "status": "completed"
    },
    "tags": []
   },
   "outputs": [],
   "source": [
    "epochs=10\n",
    "batch_size=512"
   ]
  },
  {
   "cell_type": "code",
   "execution_count": 26,
   "metadata": {
    "execution": {
     "iopub.execute_input": "2020-11-27T16:29:13.012609Z",
     "iopub.status.busy": "2020-11-27T16:29:13.011936Z",
     "iopub.status.idle": "2020-11-27T17:26:45.396450Z",
     "shell.execute_reply": "2020-11-27T17:26:45.397169Z"
    },
    "papermill": {
     "duration": 3452.421266,
     "end_time": "2020-11-27T17:26:45.397403",
     "exception": false,
     "start_time": "2020-11-27T16:29:12.976137",
     "status": "completed"
    },
    "tags": []
   },
   "outputs": [
    {
     "name": "stdout",
     "output_type": "stream",
     "text": [
      "Epoch 1/10\n",
      "38/38 [==============================] - 335s 9s/step - loss: 0.7165 - accuracy: 0.7555 - val_loss: 0.3234 - val_accuracy: 0.8906\n",
      "Epoch 2/10\n",
      "38/38 [==============================] - 333s 9s/step - loss: 0.3367 - accuracy: 0.8895 - val_loss: 0.2574 - val_accuracy: 0.9142\n",
      "Epoch 3/10\n",
      "38/38 [==============================] - 335s 9s/step - loss: 0.2870 - accuracy: 0.9081 - val_loss: 0.2366 - val_accuracy: 0.9202\n",
      "Epoch 4/10\n",
      "38/38 [==============================] - 334s 9s/step - loss: 0.2779 - accuracy: 0.9118 - val_loss: 0.2216 - val_accuracy: 0.9317\n",
      "Epoch 5/10\n",
      "38/38 [==============================] - 340s 9s/step - loss: 0.2382 - accuracy: 0.9265 - val_loss: 0.2003 - val_accuracy: 0.9358\n",
      "Epoch 6/10\n",
      "38/38 [==============================] - 339s 9s/step - loss: 0.2295 - accuracy: 0.9276 - val_loss: 0.1948 - val_accuracy: 0.9381\n",
      "Epoch 7/10\n",
      "38/38 [==============================] - 334s 9s/step - loss: 0.2105 - accuracy: 0.9356 - val_loss: 0.1737 - val_accuracy: 0.9456\n",
      "Epoch 8/10\n",
      "38/38 [==============================] - 335s 9s/step - loss: 0.2023 - accuracy: 0.9390 - val_loss: 0.1928 - val_accuracy: 0.9404\n",
      "Epoch 9/10\n",
      "38/38 [==============================] - 335s 9s/step - loss: 0.1996 - accuracy: 0.9389 - val_loss: 0.1772 - val_accuracy: 0.9460\n",
      "Epoch 10/10\n",
      "38/38 [==============================] - 333s 9s/step - loss: 0.1828 - accuracy: 0.9444 - val_loss: 0.1616 - val_accuracy: 0.9502\n"
     ]
    }
   ],
   "source": [
    "history = model.fit(X_train, y_train, epochs=epochs, batch_size=batch_size,validation_split=0.2,callbacks=[EarlyStopping(monitor='val_loss', patience=5, min_delta=0.0001)])"
   ]
  },
  {
   "cell_type": "code",
   "execution_count": 27,
   "metadata": {
    "execution": {
     "iopub.execute_input": "2020-11-27T17:26:45.728754Z",
     "iopub.status.busy": "2020-11-27T17:26:45.727745Z",
     "iopub.status.idle": "2020-11-27T17:28:13.560366Z",
     "shell.execute_reply": "2020-11-27T17:28:13.561973Z"
    },
    "papermill": {
     "duration": 88.001405,
     "end_time": "2020-11-27T17:28:13.562126",
     "exception": false,
     "start_time": "2020-11-27T17:26:45.560721",
     "status": "completed"
    },
    "tags": []
   },
   "outputs": [
    {
     "name": "stdout",
     "output_type": "stream",
     "text": [
      "188/188 [==============================] - 87s 464ms/step - loss: 0.1615 - accuracy: 0.9503\n",
      "Test set\n",
      "  Loss: 0.162\n",
      "  Accuracy: 0.950\n"
     ]
    }
   ],
   "source": [
    "accr = model.evaluate(X_test,y_test)\n",
    "print('Test set\\n  Loss: {:0.3f}\\n  Accuracy: {:0.3f}'.format(accr[0],accr[1]))"
   ]
  },
  {
   "cell_type": "code",
   "execution_count": 28,
   "metadata": {
    "execution": {
     "iopub.execute_input": "2020-11-27T17:28:14.029940Z",
     "iopub.status.busy": "2020-11-27T17:28:14.029281Z",
     "iopub.status.idle": "2020-11-27T17:28:14.248518Z",
     "shell.execute_reply": "2020-11-27T17:28:14.248998Z"
    },
    "papermill": {
     "duration": 0.461164,
     "end_time": "2020-11-27T17:28:14.249147",
     "exception": false,
     "start_time": "2020-11-27T17:28:13.787983",
     "status": "completed"
    },
    "tags": []
   },
   "outputs": [
    {
     "data": {
      "image/png": "[encoded data removed]",
      "text/plain": [
       "<Figure size 432x288 with 1 Axes>"
      ]
     },
     "metadata": {
      "needs_background": "light"
     },
     "output_type": "display_data"
    }
   ],
   "source": [
    "plt.title('Loss')\n",
    "plt.plot(history.history['loss'], label='train')\n",
    "plt.plot(history.history['val_loss'], label='test')\n",
    "plt.legend()\n",
    "plt.show();"
   ]
  },
  {
   "cell_type": "code",
   "execution_count": 29,
   "metadata": {
    "execution": {
     "iopub.execute_input": "2020-11-27T17:28:14.714505Z",
     "iopub.status.busy": "2020-11-27T17:28:14.713354Z",
     "iopub.status.idle": "2020-11-27T17:28:14.865693Z",
     "shell.execute_reply": "2020-11-27T17:28:14.866212Z"
    },
    "papermill": {
     "duration": 0.387877,
     "end_time": "2020-11-27T17:28:14.866368",
     "exception": false,
     "start_time": "2020-11-27T17:28:14.478491",
     "status": "completed"
    },
    "tags": []
   },
   "outputs": [
    {
     "data": {
      "image/png": "[encoded data removed]",
      "text/plain": [
       "<Figure size 432x288 with 1 Axes>"
      ]
     },
     "metadata": {
      "needs_background": "light"
     },
     "output_type": "display_data"
    }
   ],
   "source": [
    "plt.title('Accuracy')\n",
    "plt.plot(history.history['accuracy'], label='train')\n",
    "plt.plot(history.history['val_accuracy'], label='test')\n",
    "plt.legend()\n",
    "plt.show();"
   ]
  },
  {
   "cell_type": "code",
   "execution_count": 30,
   "metadata": {
    "execution": {
     "iopub.execute_input": "2020-11-27T17:28:15.349426Z",
     "iopub.status.busy": "2020-11-27T17:28:15.348769Z",
     "iopub.status.idle": "2020-11-27T17:28:15.546828Z",
     "shell.execute_reply": "2020-11-27T17:28:15.545762Z"
    },
    "papermill": {
     "duration": 0.440912,
     "end_time": "2020-11-27T17:28:15.546954",
     "exception": false,
     "start_time": "2020-11-27T17:28:15.106042",
     "status": "completed"
    },
    "tags": []
   },
   "outputs": [],
   "source": [
    "model.save_weights(\"2018A7PS0225G.h5\")"
   ]
  },
  {
   "cell_type": "code",
   "execution_count": 31,
   "metadata": {
    "execution": {
     "iopub.execute_input": "2020-11-27T17:28:16.007676Z",
     "iopub.status.busy": "2020-11-27T17:28:16.005887Z",
     "iopub.status.idle": "2020-11-27T17:28:16.008318Z",
     "shell.execute_reply": "2020-11-27T17:28:16.008808Z"
    },
    "papermill": {
     "duration": 0.232676,
     "end_time": "2020-11-27T17:28:16.008928",
     "exception": false,
     "start_time": "2020-11-27T17:28:15.776252",
     "status": "completed"
    },
    "tags": []
   },
   "outputs": [],
   "source": [
    "#from keras.models import Sequential\n",
    "#from keras.layers import LSTM, Dense, Dropout, Masking, Embedding,SpatialDropout1D,GRU\n",
    "#from keras.callbacks import EarlyStopping, ReduceLROnPlateau\n",
    "#from keras.initializers import Constant"
   ]
  },
  {
   "cell_type": "code",
   "execution_count": 32,
   "metadata": {
    "execution": {
     "iopub.execute_input": "2020-11-27T17:28:16.481394Z",
     "iopub.status.busy": "2020-11-27T17:28:16.479622Z",
     "iopub.status.idle": "2020-11-27T17:28:16.482038Z",
     "shell.execute_reply": "2020-11-27T17:28:16.482517Z"
    },
    "papermill": {
     "duration": 0.23802,
     "end_time": "2020-11-27T17:28:16.482656",
     "exception": false,
     "start_time": "2020-11-27T17:28:16.244636",
     "status": "completed"
    },
    "tags": []
   },
   "outputs": [],
   "source": [
    "#modelf=Sequential()\n",
    "\n",
    "#modelf = Sequential()\n",
    "#modelf.add(Embedding(num_words, EMBEDDING_DIM,embeddings_initializer=Constant(embedding_matrix),input_length=max_length,trainable=False))\n",
    "#modelf.add(SpatialDropout1D(0.2))\n",
    "#modelf.add(LSTM(50, dropout=0.2, recurrent_dropout=0.2,return_sequences=True))\n",
    "#modelf.add(SpatialDropout1D(0.4))\n",
    "#modelf.add(LSTM(100, dropout=0.2, recurrent_dropout=0.2,return_sequences=False))\n",
    "#modelf.add(Dense(5, activation='softmax'))\n",
    "#modelf.compile(loss='categorical_crossentropy', optimizer='adam', metrics=['accuracy'])\n",
    "\n",
    "#epochs = 5\n",
    "#batch_size = 3000\n",
    "\n",
    "#history = model.fit(X_train, y_train, epochs=epochs, batch_size=batch_size,validation_split=0.2,callbacks=[EarlyStopping(monitor='val_loss', patience=3, min_delta=0.0001)])"
   ]
  },
  {
   "cell_type": "code",
   "execution_count": 33,
   "metadata": {
    "execution": {
     "iopub.execute_input": "2020-11-27T17:28:16.962919Z",
     "iopub.status.busy": "2020-11-27T17:28:16.962250Z",
     "iopub.status.idle": "2020-11-27T17:28:16.966701Z",
     "shell.execute_reply": "2020-11-27T17:28:16.966214Z"
    },
    "papermill": {
     "duration": 0.2556,
     "end_time": "2020-11-27T17:28:16.966802",
     "exception": false,
     "start_time": "2020-11-27T17:28:16.711202",
     "status": "completed"
    },
    "tags": []
   },
   "outputs": [],
   "source": [
    "\n",
    "#modelf.load_weights(\"../input/nnfl-lab3/2018A7PS0225G.h5\")"
   ]
  },
  {
   "cell_type": "code",
   "execution_count": 34,
   "metadata": {
    "execution": {
     "iopub.execute_input": "2020-11-27T17:28:17.435633Z",
     "iopub.status.busy": "2020-11-27T17:28:17.434811Z",
     "iopub.status.idle": "2020-11-27T17:28:17.563512Z",
     "shell.execute_reply": "2020-11-27T17:28:17.562915Z"
    },
    "papermill": {
     "duration": 0.369198,
     "end_time": "2020-11-27T17:28:17.563631",
     "exception": false,
     "start_time": "2020-11-27T17:28:17.194433",
     "status": "completed"
    },
    "tags": []
   },
   "outputs": [],
   "source": [
    "df_test=pd.read_csv('../input/nnfl-lab-3/lab3_test.csv')"
   ]
  },
  {
   "cell_type": "code",
   "execution_count": 35,
   "metadata": {
    "execution": {
     "iopub.execute_input": "2020-11-27T17:28:18.103447Z",
     "iopub.status.busy": "2020-11-27T17:28:18.087897Z",
     "iopub.status.idle": "2020-11-27T17:31:22.252145Z",
     "shell.execute_reply": "2020-11-27T17:31:22.251415Z"
    },
    "papermill": {
     "duration": 184.434791,
     "end_time": "2020-11-27T17:31:22.252294",
     "exception": false,
     "start_time": "2020-11-27T17:28:17.817503",
     "status": "completed"
    },
    "tags": []
   },
   "outputs": [
    {
     "name": "stdout",
     "output_type": "stream",
     "text": [
      "382/382 [==============================] - 181s 474ms/step\n"
     ]
    }
   ],
   "source": [
    "test_sequences = tokenizer_obj.texts_to_sequences(df_test['text'].values)\n",
    "test_txt_pad = pad_sequences(test_sequences, maxlen=max_length)\n",
    " \n",
    "predict = model.predict(x=test_txt_pad, verbose = 1)\n",
    "\n",
    " \n",
    "ans = []\n",
    "for arr in predict:\n",
    "    ind = arr.argmax()\n",
    "    ind= ind+1\n",
    "    ans.append(ind)\n",
    " \n",
    "df_test = df_test['index']\n",
    "df_test = pd.DataFrame(df_test)\n",
    "df_test['class'] = ans\n",
    " \n",
    " \n",
    "df_test.to_csv('2018A7PS0225G.csv',index=False)"
   ]
  },
  {
   "cell_type": "code",
   "execution_count": 36,
   "metadata": {
    "execution": {
     "iopub.execute_input": "2020-11-27T17:31:23.004699Z",
     "iopub.status.busy": "2020-11-27T17:31:22.999972Z",
     "iopub.status.idle": "2020-11-27T17:31:23.008159Z",
     "shell.execute_reply": "2020-11-27T17:31:23.008650Z"
    },
    "papermill": {
     "duration": 0.384356,
     "end_time": "2020-11-27T17:31:23.008789",
     "exception": false,
     "start_time": "2020-11-27T17:31:22.624433",
     "status": "completed"
    },
    "tags": []
   },
   "outputs": [
    {
     "data": {
      "text/html": [
       "<div>\n",
       "<style scoped>\n",
       "    .dataframe tbody tr th:only-of-type {\n",
       "        vertical-align: middle;\n",
       "    }\n",
       "\n",
       "    .dataframe tbody tr th {\n",
       "        vertical-align: top;\n",
       "    }\n",
       "\n",
       "    .dataframe thead th {\n",
       "        text-align: right;\n",
       "    }\n",
       "</style>\n",
       "<table border=\"1\" class=\"dataframe\">\n",
       "  <thead>\n",
       "    <tr style=\"text-align: right;\">\n",
       "      <th></th>\n",
       "      <th>index</th>\n",
       "      <th>class</th>\n",
       "    </tr>\n",
       "  </thead>\n",
       "  <tbody>\n",
       "    <tr>\n",
       "      <th>0</th>\n",
       "      <td>0</td>\n",
       "      <td>3</td>\n",
       "    </tr>\n",
       "    <tr>\n",
       "      <th>1</th>\n",
       "      <td>1</td>\n",
       "      <td>1</td>\n",
       "    </tr>\n",
       "    <tr>\n",
       "      <th>2</th>\n",
       "      <td>2</td>\n",
       "      <td>4</td>\n",
       "    </tr>\n",
       "    <tr>\n",
       "      <th>3</th>\n",
       "      <td>3</td>\n",
       "      <td>2</td>\n",
       "    </tr>\n",
       "    <tr>\n",
       "      <th>4</th>\n",
       "      <td>4</td>\n",
       "      <td>1</td>\n",
       "    </tr>\n",
       "    <tr>\n",
       "      <th>...</th>\n",
       "      <td>...</td>\n",
       "      <td>...</td>\n",
       "    </tr>\n",
       "    <tr>\n",
       "      <th>12194</th>\n",
       "      <td>12194</td>\n",
       "      <td>1</td>\n",
       "    </tr>\n",
       "    <tr>\n",
       "      <th>12195</th>\n",
       "      <td>12195</td>\n",
       "      <td>1</td>\n",
       "    </tr>\n",
       "    <tr>\n",
       "      <th>12196</th>\n",
       "      <td>12196</td>\n",
       "      <td>1</td>\n",
       "    </tr>\n",
       "    <tr>\n",
       "      <th>12197</th>\n",
       "      <td>12197</td>\n",
       "      <td>1</td>\n",
       "    </tr>\n",
       "    <tr>\n",
       "      <th>12198</th>\n",
       "      <td>12198</td>\n",
       "      <td>2</td>\n",
       "    </tr>\n",
       "  </tbody>\n",
       "</table>\n",
       "<p>12199 rows × 2 columns</p>\n",
       "</div>"
      ],
      "text/plain": [
       "       index  class\n",
       "0          0      3\n",
       "1          1      1\n",
       "2          2      4\n",
       "3          3      2\n",
       "4          4      1\n",
       "...      ...    ...\n",
       "12194  12194      1\n",
       "12195  12195      1\n",
       "12196  12196      1\n",
       "12197  12197      1\n",
       "12198  12198      2\n",
       "\n",
       "[12199 rows x 2 columns]"
      ]
     },
     "execution_count": 36,
     "metadata": {},
     "output_type": "execute_result"
    }
   ],
   "source": [
    "df_test"
   ]
  },
  {
   "cell_type": "code",
   "execution_count": null,
   "metadata": {
    "papermill": {
     "duration": 0.363956,
     "end_time": "2020-11-27T17:31:23.737525",
     "exception": false,
     "start_time": "2020-11-27T17:31:23.373569",
     "status": "completed"
    },
    "tags": []
   },
   "outputs": [],
   "source": []
  }
 ],
 "metadata": {
  "kernelspec": {
   "display_name": "Python 3",
   "language": "python",
   "name": "python3"
  },
  "language_info": {
   "codemirror_mode": {
    "name": "ipython",
    "version": 3
   },
   "file_extension": ".py",
   "mimetype": "text/x-python",
   "name": "python",
   "nbconvert_exporter": "python",
   "pygments_lexer": "ipython3",
   "version": "3.7.6"
  },
  "papermill": {
   "duration": 3936.213198,
   "end_time": "2020-11-27T17:31:25.651924",
   "environment_variables": {},
   "exception": null,
   "input_path": "__notebook__.ipynb",
   "output_path": "__notebook__.ipynb",
   "parameters": {},
   "start_time": "2020-11-27T16:25:49.438726",
   "version": "2.1.0"
  }
 },
 "nbformat": 4,
 "nbformat_minor": 4
}
